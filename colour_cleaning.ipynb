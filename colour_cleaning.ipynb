{
 "cells": [
  {
   "cell_type": "markdown",
   "id": "1ad192e1",
   "metadata": {},
   "source": [
    "# Colour map\n",
    "\n",
    "to make the episode descriptions as generic as possible, we'll map each character in each season to a generic colour label, allowing for interchangability. \n",
    "\n",
    "steps involved:\n",
    "1. scrape characters / power ranger names\n",
    "2. extract colours from the power ranger names\n",
    "3. assign colours to some of the weird ones as I deffo saw some power rangers called like 'phantom' which isnt a colour and isnt helpful\n",
    "4. probs also take characters first names as an extra column too."
   ]
  },
  {
   "cell_type": "code",
   "execution_count": 2,
   "id": "961db9c3",
   "metadata": {},
   "outputs": [],
   "source": [
    "import pandas as pd\n",
    "from colour import Color\n",
    "from typing import Optional, Dict, List\n",
    "import re\n",
    "import numpy as np\n",
    "import matplotlib.pyplot as plt\n",
    "import seaborn as sns\n",
    "import plotly.express as px\n",
    "\n",
    "%matplotlib inline"
   ]
  },
  {
   "cell_type": "markdown",
   "id": "9ecd93ae",
   "metadata": {},
   "source": [
    "so lets get started by readin in the scraped data and seeing where we stand"
   ]
  },
  {
   "cell_type": "code",
   "execution_count": 18,
   "id": "6ba77914",
   "metadata": {},
   "outputs": [
    {
     "data": {
      "text/html": [
       "<div>\n",
       "<style scoped>\n",
       "    .dataframe tbody tr th:only-of-type {\n",
       "        vertical-align: middle;\n",
       "    }\n",
       "\n",
       "    .dataframe tbody tr th {\n",
       "        vertical-align: top;\n",
       "    }\n",
       "\n",
       "    .dataframe thead th {\n",
       "        text-align: right;\n",
       "    }\n",
       "</style>\n",
       "<table border=\"1\" class=\"dataframe\">\n",
       "  <thead>\n",
       "    <tr style=\"text-align: right;\">\n",
       "      <th></th>\n",
       "      <th>Color</th>\n",
       "      <th>Role</th>\n",
       "      <th>Actor</th>\n",
       "      <th>season</th>\n",
       "    </tr>\n",
       "  </thead>\n",
       "  <tbody>\n",
       "    <tr>\n",
       "      <th>0</th>\n",
       "      <td>Red Ranger</td>\n",
       "      <td>Jason Lee Scott</td>\n",
       "      <td>Austin St. John</td>\n",
       "      <td>mighty morphin</td>\n",
       "    </tr>\n",
       "    <tr>\n",
       "      <th>1</th>\n",
       "      <td>Black Ranger</td>\n",
       "      <td>Zack Taylor</td>\n",
       "      <td>Walter Jones</td>\n",
       "      <td>mighty morphin</td>\n",
       "    </tr>\n",
       "    <tr>\n",
       "      <th>2</th>\n",
       "      <td>Blue Ranger</td>\n",
       "      <td>Billy Cranston</td>\n",
       "      <td>David Yost</td>\n",
       "      <td>mighty morphin</td>\n",
       "    </tr>\n",
       "    <tr>\n",
       "      <th>3</th>\n",
       "      <td>Yellow Ranger</td>\n",
       "      <td>Trini Kwan</td>\n",
       "      <td>Thuy Trang</td>\n",
       "      <td>mighty morphin</td>\n",
       "    </tr>\n",
       "    <tr>\n",
       "      <th>4</th>\n",
       "      <td>Pink Ranger</td>\n",
       "      <td>Kimberly Ann Hart</td>\n",
       "      <td>Amy Jo Johnson</td>\n",
       "      <td>mighty morphin</td>\n",
       "    </tr>\n",
       "  </tbody>\n",
       "</table>\n",
       "</div>"
      ],
      "text/plain": [
       "           Color               Role            Actor          season\n",
       "0     Red Ranger    Jason Lee Scott  Austin St. John  mighty morphin\n",
       "1   Black Ranger        Zack Taylor     Walter Jones  mighty morphin\n",
       "2    Blue Ranger     Billy Cranston       David Yost  mighty morphin\n",
       "3  Yellow Ranger         Trini Kwan       Thuy Trang  mighty morphin\n",
       "4    Pink Ranger  Kimberly Ann Hart   Amy Jo Johnson  mighty morphin"
      ]
     },
     "execution_count": 18,
     "metadata": {},
     "output_type": "execute_result"
    }
   ],
   "source": [
    "df = pd.read_excel('data/colour_list.xlsx')\n",
    "df.head()"
   ]
  },
  {
   "cell_type": "markdown",
   "id": "f37f80c2",
   "metadata": {},
   "source": [
    "we'll start with some quick housekeeping, namely some decapitalising, prehaps a column rename or two..."
   ]
  },
  {
   "cell_type": "code",
   "execution_count": 19,
   "id": "4bb8f4b0",
   "metadata": {},
   "outputs": [
    {
     "data": {
      "text/html": [
       "<div>\n",
       "<style scoped>\n",
       "    .dataframe tbody tr th:only-of-type {\n",
       "        vertical-align: middle;\n",
       "    }\n",
       "\n",
       "    .dataframe tbody tr th {\n",
       "        vertical-align: top;\n",
       "    }\n",
       "\n",
       "    .dataframe thead th {\n",
       "        text-align: right;\n",
       "    }\n",
       "</style>\n",
       "<table border=\"1\" class=\"dataframe\">\n",
       "  <thead>\n",
       "    <tr style=\"text-align: right;\">\n",
       "      <th></th>\n",
       "      <th>raw_colour</th>\n",
       "      <th>role</th>\n",
       "      <th>actor</th>\n",
       "      <th>season</th>\n",
       "      <th>character</th>\n",
       "    </tr>\n",
       "  </thead>\n",
       "  <tbody>\n",
       "    <tr>\n",
       "      <th>0</th>\n",
       "      <td>red ranger</td>\n",
       "      <td>Jason Lee Scott</td>\n",
       "      <td>Austin St. John</td>\n",
       "      <td>mighty morphin</td>\n",
       "      <td>Jason</td>\n",
       "    </tr>\n",
       "    <tr>\n",
       "      <th>1</th>\n",
       "      <td>black ranger</td>\n",
       "      <td>Zack Taylor</td>\n",
       "      <td>Walter Jones</td>\n",
       "      <td>mighty morphin</td>\n",
       "      <td>Zack</td>\n",
       "    </tr>\n",
       "    <tr>\n",
       "      <th>2</th>\n",
       "      <td>blue ranger</td>\n",
       "      <td>Billy Cranston</td>\n",
       "      <td>David Yost</td>\n",
       "      <td>mighty morphin</td>\n",
       "      <td>Billy</td>\n",
       "    </tr>\n",
       "    <tr>\n",
       "      <th>3</th>\n",
       "      <td>yellow ranger</td>\n",
       "      <td>Trini Kwan</td>\n",
       "      <td>Thuy Trang</td>\n",
       "      <td>mighty morphin</td>\n",
       "      <td>Trini</td>\n",
       "    </tr>\n",
       "    <tr>\n",
       "      <th>4</th>\n",
       "      <td>pink ranger</td>\n",
       "      <td>Kimberly Ann Hart</td>\n",
       "      <td>Amy Jo Johnson</td>\n",
       "      <td>mighty morphin</td>\n",
       "      <td>Kimberly</td>\n",
       "    </tr>\n",
       "  </tbody>\n",
       "</table>\n",
       "</div>"
      ],
      "text/plain": [
       "      raw_colour               role            actor          season character\n",
       "0     red ranger    Jason Lee Scott  Austin St. John  mighty morphin     Jason\n",
       "1   black ranger        Zack Taylor     Walter Jones  mighty morphin      Zack\n",
       "2    blue ranger     Billy Cranston       David Yost  mighty morphin     Billy\n",
       "3  yellow ranger         Trini Kwan       Thuy Trang  mighty morphin     Trini\n",
       "4    pink ranger  Kimberly Ann Hart   Amy Jo Johnson  mighty morphin  Kimberly"
      ]
     },
     "execution_count": 19,
     "metadata": {},
     "output_type": "execute_result"
    }
   ],
   "source": [
    "df.columns = [column.lower() for column in df.columns]\n",
    "df.rename(columns={'color': 'raw_colour'}, inplace=True)\n",
    "\n",
    "df['raw_colour'] = df['raw_colour'].str.lower()\n",
    "df['character'] = df['role'].str.split().str[0]\n",
    "\n",
    "df.head()"
   ]
  },
  {
   "cell_type": "markdown",
   "id": "a052ea4b",
   "metadata": {},
   "source": [
    "fab. Next I'll extract the colours where they exist..."
   ]
  },
  {
   "cell_type": "code",
   "execution_count": 24,
   "id": "7f2c83fe",
   "metadata": {},
   "outputs": [
    {
     "data": {
      "text/html": [
       "<div>\n",
       "<style scoped>\n",
       "    .dataframe tbody tr th:only-of-type {\n",
       "        vertical-align: middle;\n",
       "    }\n",
       "\n",
       "    .dataframe tbody tr th {\n",
       "        vertical-align: top;\n",
       "    }\n",
       "\n",
       "    .dataframe thead th {\n",
       "        text-align: right;\n",
       "    }\n",
       "</style>\n",
       "<table border=\"1\" class=\"dataframe\">\n",
       "  <thead>\n",
       "    <tr style=\"text-align: right;\">\n",
       "      <th></th>\n",
       "      <th>raw_colour</th>\n",
       "      <th>role</th>\n",
       "      <th>actor</th>\n",
       "      <th>season</th>\n",
       "      <th>character</th>\n",
       "      <th>colour</th>\n",
       "      <th>colour_ranger</th>\n",
       "    </tr>\n",
       "  </thead>\n",
       "  <tbody>\n",
       "    <tr>\n",
       "      <th>0</th>\n",
       "      <td>red ranger</td>\n",
       "      <td>Jason Lee Scott</td>\n",
       "      <td>Austin St. John</td>\n",
       "      <td>mighty morphin</td>\n",
       "      <td>Jason</td>\n",
       "      <td>red</td>\n",
       "      <td>red ranger</td>\n",
       "    </tr>\n",
       "    <tr>\n",
       "      <th>1</th>\n",
       "      <td>black ranger</td>\n",
       "      <td>Zack Taylor</td>\n",
       "      <td>Walter Jones</td>\n",
       "      <td>mighty morphin</td>\n",
       "      <td>Zack</td>\n",
       "      <td>black</td>\n",
       "      <td>black ranger</td>\n",
       "    </tr>\n",
       "    <tr>\n",
       "      <th>2</th>\n",
       "      <td>blue ranger</td>\n",
       "      <td>Billy Cranston</td>\n",
       "      <td>David Yost</td>\n",
       "      <td>mighty morphin</td>\n",
       "      <td>Billy</td>\n",
       "      <td>blue</td>\n",
       "      <td>blue ranger</td>\n",
       "    </tr>\n",
       "    <tr>\n",
       "      <th>3</th>\n",
       "      <td>yellow ranger</td>\n",
       "      <td>Trini Kwan</td>\n",
       "      <td>Thuy Trang</td>\n",
       "      <td>mighty morphin</td>\n",
       "      <td>Trini</td>\n",
       "      <td>yellow</td>\n",
       "      <td>yellow ranger</td>\n",
       "    </tr>\n",
       "    <tr>\n",
       "      <th>4</th>\n",
       "      <td>pink ranger</td>\n",
       "      <td>Kimberly Ann Hart</td>\n",
       "      <td>Amy Jo Johnson</td>\n",
       "      <td>mighty morphin</td>\n",
       "      <td>Kimberly</td>\n",
       "      <td>pink</td>\n",
       "      <td>pink ranger</td>\n",
       "    </tr>\n",
       "  </tbody>\n",
       "</table>\n",
       "</div>"
      ],
      "text/plain": [
       "      raw_colour               role            actor          season  \\\n",
       "0     red ranger    Jason Lee Scott  Austin St. John  mighty morphin   \n",
       "1   black ranger        Zack Taylor     Walter Jones  mighty morphin   \n",
       "2    blue ranger     Billy Cranston       David Yost  mighty morphin   \n",
       "3  yellow ranger         Trini Kwan       Thuy Trang  mighty morphin   \n",
       "4    pink ranger  Kimberly Ann Hart   Amy Jo Johnson  mighty morphin   \n",
       "\n",
       "  character  colour  colour_ranger  \n",
       "0     Jason     red     red ranger  \n",
       "1      Zack   black   black ranger  \n",
       "2     Billy    blue    blue ranger  \n",
       "3     Trini  yellow  yellow ranger  \n",
       "4  Kimberly    pink    pink ranger  "
      ]
     },
     "execution_count": 24,
     "metadata": {},
     "output_type": "execute_result"
    }
   ],
   "source": [
    "def check_color(word: str) -> bool:\n",
    "    \"\"\"Checks if a word is a colour.\n",
    "    \n",
    "    Parameters\n",
    "    ----------\n",
    "    word : Input word to be checked.\n",
    "    \n",
    "    Returns\n",
    "    -------\n",
    "    bool\n",
    "        True or False respectively.\n",
    "    \"\"\"\n",
    "    try:\n",
    "        Color(word)\n",
    "        return True\n",
    "    except ValueError:\n",
    "        return False\n",
    "    \n",
    "\n",
    "def find_colour_in_text(input_text: str) -> Optional[str]:\n",
    "    \"\"\"Extract the colour from a given string\n",
    "    \n",
    "    Parameters\n",
    "    ----------\n",
    "    input_text : String ideally containing some colour.\n",
    "    \n",
    "    Returns\n",
    "    -------\n",
    "    str\n",
    "        The colour contained in input_text, else None\n",
    "    \"\"\"\n",
    "    colour_list = [i for i in input_text.split(' ') if check_color(i)]\n",
    "    \n",
    "    if len(colour_list) > 0:\n",
    "        return colour_list[0]\n",
    "    else:\n",
    "        return input_text.replace(' ranger', '')  # mostly these are 'quantumn ranger', or 'deka ranger'.\n",
    "\n",
    "df['colour'] = df['raw_colour'].apply(find_colour_in_text)\n",
    "df['colour_ranger'] = df['colour'] + ' ranger'\n",
    "df.head()"
   ]
  },
  {
   "cell_type": "markdown",
   "id": "0e72e8a8",
   "metadata": {},
   "source": [
    "fabulous. I think we are now ready to progress to scraping episode synopsis' for every episode, whereafter we can hopefully use this data to replace any mentions of characters / colours with the simplified versions. its highly likely we'll need to come back and do some further tweaking later but for now this will work :)"
   ]
  },
  {
   "cell_type": "code",
   "execution_count": 25,
   "id": "e6648059",
   "metadata": {},
   "outputs": [],
   "source": [
    "df.to_csv('data/colours_cleaned', index=False)"
   ]
  },
  {
   "cell_type": "markdown",
   "id": "61ff00b5",
   "metadata": {},
   "source": [
    "# Series descriptions\n",
    "\n",
    "next up, web scraped season descriptions. Ideally we would want to clean these so that the 'season' name matches the format of the one in the colours_cleaned data."
   ]
  },
  {
   "cell_type": "code",
   "execution_count": 11,
   "id": "1f9e8ed5",
   "metadata": {},
   "outputs": [
    {
     "data": {
      "text/html": [
       "<div>\n",
       "<style scoped>\n",
       "    .dataframe tbody tr th:only-of-type {\n",
       "        vertical-align: middle;\n",
       "    }\n",
       "\n",
       "    .dataframe tbody tr th {\n",
       "        vertical-align: top;\n",
       "    }\n",
       "\n",
       "    .dataframe thead th {\n",
       "        text-align: right;\n",
       "    }\n",
       "</style>\n",
       "<table border=\"1\" class=\"dataframe\">\n",
       "  <thead>\n",
       "    <tr style=\"text-align: right;\">\n",
       "      <th></th>\n",
       "      <th>date_scraped</th>\n",
       "      <th>series</th>\n",
       "      <th>series_synopsis</th>\n",
       "      <th>time_scraped</th>\n",
       "    </tr>\n",
       "  </thead>\n",
       "  <tbody>\n",
       "    <tr>\n",
       "      <th>0</th>\n",
       "      <td>14062021</td>\n",
       "      <td>Power Rangers Dino Thunder</td>\n",
       "      <td>A soccer player, computer expert, a musician, ...</td>\n",
       "      <td>213005</td>\n",
       "    </tr>\n",
       "    <tr>\n",
       "      <th>1</th>\n",
       "      <td>14062021</td>\n",
       "      <td>Mighty Morphin Power Rangers (Season 2)</td>\n",
       "      <td>Angered at the repeated failures of his servan...</td>\n",
       "      <td>213005</td>\n",
       "    </tr>\n",
       "    <tr>\n",
       "      <th>2</th>\n",
       "      <td>14062021</td>\n",
       "      <td>Power Rangers Lost Galaxy</td>\n",
       "      <td>In late 1998, after Power Rangers in Space end...</td>\n",
       "      <td>213005</td>\n",
       "    </tr>\n",
       "    <tr>\n",
       "      <th>3</th>\n",
       "      <td>14062021</td>\n",
       "      <td>Power Rangers Dino Fury</td>\n",
       "      <td>On February 22, 2020, Hasbro revealed at New Y...</td>\n",
       "      <td>213005</td>\n",
       "    </tr>\n",
       "    <tr>\n",
       "      <th>4</th>\n",
       "      <td>14062021</td>\n",
       "      <td>Power Rangers Mystic Force</td>\n",
       "      <td>A short time ago, there was a dimension filled...</td>\n",
       "      <td>213005</td>\n",
       "    </tr>\n",
       "  </tbody>\n",
       "</table>\n",
       "</div>"
      ],
      "text/plain": [
       "   date_scraped                                   series  \\\n",
       "0      14062021               Power Rangers Dino Thunder   \n",
       "1      14062021  Mighty Morphin Power Rangers (Season 2)   \n",
       "2      14062021                Power Rangers Lost Galaxy   \n",
       "3      14062021                  Power Rangers Dino Fury   \n",
       "4      14062021               Power Rangers Mystic Force   \n",
       "\n",
       "                                     series_synopsis  time_scraped  \n",
       "0  A soccer player, computer expert, a musician, ...        213005  \n",
       "1  Angered at the repeated failures of his servan...        213005  \n",
       "2  In late 1998, after Power Rangers in Space end...        213005  \n",
       "3  On February 22, 2020, Hasbro revealed at New Y...        213005  \n",
       "4  A short time ago, there was a dimension filled...        213005  "
      ]
     },
     "execution_count": 11,
     "metadata": {},
     "output_type": "execute_result"
    }
   ],
   "source": [
    "df = pd.read_json('data/powerrangers-wiki_series.json')\n",
    "df.head()"
   ]
  },
  {
   "cell_type": "markdown",
   "id": "69cf1d74",
   "metadata": {},
   "source": [
    "safe so:\n",
    "1. drop the date / time scraped variables as forgot I'd asked to add those on from the scraper (have they ever been useful?)\n",
    "2. lower case the series\n",
    "3. remove 'power rangers' from the series\n",
    "4. I guess remove (season \\*) as well\n",
    "\n",
    "see if that deos the trick"
   ]
  },
  {
   "cell_type": "code",
   "execution_count": 12,
   "id": "09913b50",
   "metadata": {},
   "outputs": [
    {
     "data": {
      "text/html": [
       "<div>\n",
       "<style scoped>\n",
       "    .dataframe tbody tr th:only-of-type {\n",
       "        vertical-align: middle;\n",
       "    }\n",
       "\n",
       "    .dataframe tbody tr th {\n",
       "        vertical-align: top;\n",
       "    }\n",
       "\n",
       "    .dataframe thead th {\n",
       "        text-align: right;\n",
       "    }\n",
       "</style>\n",
       "<table border=\"1\" class=\"dataframe\">\n",
       "  <thead>\n",
       "    <tr style=\"text-align: right;\">\n",
       "      <th></th>\n",
       "      <th>season</th>\n",
       "      <th>series_synopsis</th>\n",
       "    </tr>\n",
       "  </thead>\n",
       "  <tbody>\n",
       "    <tr>\n",
       "      <th>0</th>\n",
       "      <td>dino thunder</td>\n",
       "      <td>A soccer player, computer expert, a musician, ...</td>\n",
       "    </tr>\n",
       "    <tr>\n",
       "      <th>1</th>\n",
       "      <td>mighty morphin</td>\n",
       "      <td>Angered at the repeated failures of his servan...</td>\n",
       "    </tr>\n",
       "    <tr>\n",
       "      <th>2</th>\n",
       "      <td>lost galaxy</td>\n",
       "      <td>In late 1998, after Power Rangers in Space end...</td>\n",
       "    </tr>\n",
       "    <tr>\n",
       "      <th>3</th>\n",
       "      <td>dino fury</td>\n",
       "      <td>On February 22, 2020, Hasbro revealed at New Y...</td>\n",
       "    </tr>\n",
       "    <tr>\n",
       "      <th>4</th>\n",
       "      <td>mystic force</td>\n",
       "      <td>A short time ago, there was a dimension filled...</td>\n",
       "    </tr>\n",
       "  </tbody>\n",
       "</table>\n",
       "</div>"
      ],
      "text/plain": [
       "             season                                    series_synopsis\n",
       "0      dino thunder  A soccer player, computer expert, a musician, ...\n",
       "1  mighty morphin    Angered at the repeated failures of his servan...\n",
       "2       lost galaxy  In late 1998, after Power Rangers in Space end...\n",
       "3         dino fury  On February 22, 2020, Hasbro revealed at New Y...\n",
       "4      mystic force  A short time ago, there was a dimension filled..."
      ]
     },
     "execution_count": 12,
     "metadata": {},
     "output_type": "execute_result"
    }
   ],
   "source": [
    "df.drop(['date_scraped', 'time_scraped'], inplace=True, axis=1)\n",
    "\n",
    "df['series'] = df['series'].str.lower()\n",
    "df['series'] = df['series'].str.replace('power rangers', '')\n",
    "df['series'] = df['series'].apply(lambda x: re.sub(\"[\\(\\[].*?[\\)\\]]\", \"\", x))\n",
    "\n",
    "df.rename(columns={'series': 'season'}, inplace=True)\n",
    "\n",
    "df.head()"
   ]
  },
  {
   "cell_type": "markdown",
   "id": "6006e2cd",
   "metadata": {},
   "source": [
    "Now that is incredibly norty. save it away for a rainy day"
   ]
  },
  {
   "cell_type": "code",
   "execution_count": 13,
   "id": "0374ced1",
   "metadata": {},
   "outputs": [],
   "source": [
    "df.to_csv('data/series_description.csv', index=False)"
   ]
  },
  {
   "cell_type": "markdown",
   "id": "8ae52358",
   "metadata": {},
   "source": [
    "# Episodes cleaning\n",
    "\n",
    "finally for this initial cleaning and prep stage thing part, lets whack out the episodes data and make a riteous mess..."
   ]
  },
  {
   "cell_type": "code",
   "execution_count": 14,
   "id": "4466a7cb",
   "metadata": {},
   "outputs": [
    {
     "data": {
      "text/html": [
       "<div>\n",
       "<style scoped>\n",
       "    .dataframe tbody tr th:only-of-type {\n",
       "        vertical-align: middle;\n",
       "    }\n",
       "\n",
       "    .dataframe tbody tr th {\n",
       "        vertical-align: top;\n",
       "    }\n",
       "\n",
       "    .dataframe thead th {\n",
       "        text-align: right;\n",
       "    }\n",
       "</style>\n",
       "<table border=\"1\" class=\"dataframe\">\n",
       "  <thead>\n",
       "    <tr style=\"text-align: right;\">\n",
       "      <th></th>\n",
       "      <th>date_scraped</th>\n",
       "      <th>episode_synopsis</th>\n",
       "      <th>series</th>\n",
       "      <th>time_scraped</th>\n",
       "      <th>url</th>\n",
       "    </tr>\n",
       "  </thead>\n",
       "  <tbody>\n",
       "    <tr>\n",
       "      <th>0</th>\n",
       "      <td>14062021</td>\n",
       "      <td>While on a detention-related field trip with t...</td>\n",
       "      <td>Power Rangers Dino Thunder, Episode 12x01, 12x02</td>\n",
       "      <td>213006</td>\n",
       "      <td>https://powerrangers.fandom.com/wiki/Day_of_th...</td>\n",
       "    </tr>\n",
       "    <tr>\n",
       "      <th>1</th>\n",
       "      <td>14062021</td>\n",
       "      <td>Rita Repulsa has been removed from power and n...</td>\n",
       "      <td>Mighty Morphin Power Rangers (Season 2), Episo...</td>\n",
       "      <td>213006</td>\n",
       "      <td>https://powerrangers.fandom.com/wiki/The_Mutiny</td>\n",
       "    </tr>\n",
       "    <tr>\n",
       "      <th>2</th>\n",
       "      <td>14062021</td>\n",
       "      <td>With Dr. Oliver \"on sick leave\" (due to his de...</td>\n",
       "      <td>Dino Thunder, Episode 12x17</td>\n",
       "      <td>213006</td>\n",
       "      <td>https://powerrangers.fandom.com/wiki/The_Missi...</td>\n",
       "    </tr>\n",
       "    <tr>\n",
       "      <th>3</th>\n",
       "      <td>14062021</td>\n",
       "      <td>As Trent has been completely taken over by the...</td>\n",
       "      <td>Power Rangers Dino Thunder, Episode 12x16</td>\n",
       "      <td>213006</td>\n",
       "      <td>https://powerrangers.fandom.com/wiki/Burning_a...</td>\n",
       "    </tr>\n",
       "    <tr>\n",
       "      <th>4</th>\n",
       "      <td>14062021</td>\n",
       "      <td>A meteor's energy changes the Rangers' persona...</td>\n",
       "      <td>Power Rangers Dino Thunder, Episode 12x15</td>\n",
       "      <td>213006</td>\n",
       "      <td>https://powerrangers.fandom.com/wiki/Leader_of...</td>\n",
       "    </tr>\n",
       "  </tbody>\n",
       "</table>\n",
       "</div>"
      ],
      "text/plain": [
       "   date_scraped                                   episode_synopsis  \\\n",
       "0      14062021  While on a detention-related field trip with t...   \n",
       "1      14062021  Rita Repulsa has been removed from power and n...   \n",
       "2      14062021  With Dr. Oliver \"on sick leave\" (due to his de...   \n",
       "3      14062021  As Trent has been completely taken over by the...   \n",
       "4      14062021  A meteor's energy changes the Rangers' persona...   \n",
       "\n",
       "                                              series  time_scraped  \\\n",
       "0   Power Rangers Dino Thunder, Episode 12x01, 12x02        213006   \n",
       "1  Mighty Morphin Power Rangers (Season 2), Episo...        213006   \n",
       "2                        Dino Thunder, Episode 12x17        213006   \n",
       "3          Power Rangers Dino Thunder, Episode 12x16        213006   \n",
       "4          Power Rangers Dino Thunder, Episode 12x15        213006   \n",
       "\n",
       "                                                 url  \n",
       "0  https://powerrangers.fandom.com/wiki/Day_of_th...  \n",
       "1    https://powerrangers.fandom.com/wiki/The_Mutiny  \n",
       "2  https://powerrangers.fandom.com/wiki/The_Missi...  \n",
       "3  https://powerrangers.fandom.com/wiki/Burning_a...  \n",
       "4  https://powerrangers.fandom.com/wiki/Leader_of...  "
      ]
     },
     "execution_count": 14,
     "metadata": {},
     "output_type": "execute_result"
    }
   ],
   "source": [
    "df = pd.read_json('data/powerrangers-wiki_episodes.json')\n",
    "df.head()"
   ]
  },
  {
   "cell_type": "markdown",
   "id": "b8aaff5d",
   "metadata": {},
   "source": [
    "yet again with the bloody date / time scraped dammit need to be more on the ball with accepting that hahaha.\n",
    "\n",
    "that aside, a few meanignful things can be extracted here, namely:\n",
    "- episode name from the url\n",
    "- episode number from series\n",
    "- season from series\n",
    "I assume the episode descriptions will hold."
   ]
  },
  {
   "cell_type": "code",
   "execution_count": 20,
   "id": "c122390c",
   "metadata": {},
   "outputs": [
    {
     "data": {
      "text/html": [
       "<div>\n",
       "<style scoped>\n",
       "    .dataframe tbody tr th:only-of-type {\n",
       "        vertical-align: middle;\n",
       "    }\n",
       "\n",
       "    .dataframe tbody tr th {\n",
       "        vertical-align: top;\n",
       "    }\n",
       "\n",
       "    .dataframe thead th {\n",
       "        text-align: right;\n",
       "    }\n",
       "</style>\n",
       "<table border=\"1\" class=\"dataframe\">\n",
       "  <thead>\n",
       "    <tr style=\"text-align: right;\">\n",
       "      <th></th>\n",
       "      <th>episode_synopsis</th>\n",
       "      <th>season</th>\n",
       "      <th>episode_name</th>\n",
       "      <th>episode_number</th>\n",
       "    </tr>\n",
       "  </thead>\n",
       "  <tbody>\n",
       "    <tr>\n",
       "      <th>0</th>\n",
       "      <td>While on a detention-related field trip with t...</td>\n",
       "      <td>dino thunder</td>\n",
       "      <td>day of the dino</td>\n",
       "      <td>[01, 02]</td>\n",
       "    </tr>\n",
       "    <tr>\n",
       "      <th>1</th>\n",
       "      <td>Rita Repulsa has been removed from power and n...</td>\n",
       "      <td>mighty morphin</td>\n",
       "      <td>the mutiny</td>\n",
       "      <td>[01, 02, 03]</td>\n",
       "    </tr>\n",
       "    <tr>\n",
       "      <th>2</th>\n",
       "      <td>With Dr. Oliver \"on sick leave\" (due to his de...</td>\n",
       "      <td>dino thunder</td>\n",
       "      <td>the missing bone</td>\n",
       "      <td>[17]</td>\n",
       "    </tr>\n",
       "    <tr>\n",
       "      <th>3</th>\n",
       "      <td>As Trent has been completely taken over by the...</td>\n",
       "      <td>dino thunder</td>\n",
       "      <td>burning at both ends</td>\n",
       "      <td>[16]</td>\n",
       "    </tr>\n",
       "    <tr>\n",
       "      <th>4</th>\n",
       "      <td>A meteor's energy changes the Rangers' persona...</td>\n",
       "      <td>dino thunder</td>\n",
       "      <td>leader of the whack</td>\n",
       "      <td>[15]</td>\n",
       "    </tr>\n",
       "  </tbody>\n",
       "</table>\n",
       "</div>"
      ],
      "text/plain": [
       "                                    episode_synopsis            season  \\\n",
       "0  While on a detention-related field trip with t...      dino thunder   \n",
       "1  Rita Repulsa has been removed from power and n...  mighty morphin     \n",
       "2  With Dr. Oliver \"on sick leave\" (due to his de...      dino thunder   \n",
       "3  As Trent has been completely taken over by the...      dino thunder   \n",
       "4  A meteor's energy changes the Rangers' persona...      dino thunder   \n",
       "\n",
       "           episode_name episode_number  \n",
       "0       day of the dino       [01, 02]  \n",
       "1            the mutiny   [01, 02, 03]  \n",
       "2      the missing bone           [17]  \n",
       "3  burning at both ends           [16]  \n",
       "4   leader of the whack           [15]  "
      ]
     },
     "execution_count": 20,
     "metadata": {},
     "output_type": "execute_result"
    }
   ],
   "source": [
    "df['episode_name'] = df['url'].str.split('/').str[-1]\n",
    "df['episode_name'] = df['episode_name'].str.replace('_', ' ').str.lower()\n",
    "\n",
    "df['episode_number'] = df['series'].apply(lambda x: re.compile('x([0-9]*)').findall(x))\n",
    "\n",
    "df['series'] = df['series'].str.lower()\n",
    "df['series'] = df['series'].str.replace('power rangers', '')\n",
    "df['series'] = df['series'].apply(lambda x: re.sub(\"[\\(\\[].*?[\\)\\]]\", \"\", x))\n",
    "df['series'] = df['series'].str.split(',').str[0]\n",
    "df['series'] = df['series'].str.lstrip().str.rstrip()\n",
    "df['series'] = df['series'].str.replace('super ', '').str.replace('.', '')\n",
    "\n",
    "df.rename(columns={'series': 'season'}, inplace=True)\n",
    "df.drop(['date_scraped', 'time_scraped', 'url'], inplace=True, axis=1)\n",
    "\n",
    "df.head()"
   ]
  },
  {
   "cell_type": "markdown",
   "id": "6822326a",
   "metadata": {},
   "source": [
    "safety. Aight this makes it done for now, next up, will be engineering these into some cool unified dataset "
   ]
  },
  {
   "cell_type": "code",
   "execution_count": 22,
   "id": "f757dacc",
   "metadata": {},
   "outputs": [],
   "source": [
    "df.to_csv('data/episode_descriptions.csv', index=False)"
   ]
  },
  {
   "cell_type": "markdown",
   "id": "03cdde54",
   "metadata": {},
   "source": [
    "# Unifying the descriptions\n",
    "\n",
    "so, steps here will be tooken to try and lie our way into making the episodes all about the same cast:\n",
    "\n",
    "1. replace all mention of the characters with their colours\n",
    "2. replace all mention of the weirdly specific colours with the unified colours\n",
    "3. i guess just be amazed or something..."
   ]
  },
  {
   "cell_type": "code",
   "execution_count": 7,
   "id": "561dff6e",
   "metadata": {},
   "outputs": [],
   "source": [
    "colours = pd.read_csv('data/colours_cleaned.csv')\n",
    "episodes = pd.read_csv('data/episode_descriptions.csv')"
   ]
  },
  {
   "cell_type": "markdown",
   "id": "44ae79f4",
   "metadata": {},
   "source": [
    "I guess the first step is to try and form the colours dataframe into something more useful..."
   ]
  },
  {
   "cell_type": "code",
   "execution_count": 8,
   "id": "aed606c5",
   "metadata": {},
   "outputs": [],
   "source": [
    "colours['str_map'] = (colours['raw_colour'] + ',' + \n",
    "                      colours['role'] + ',' + \n",
    "                      colours['character'])\n",
    "colours = colours.groupby(['season', 'colour_ranger'])['str_map'].apply(lambda x : ', '.join(x)).reset_index()\n",
    "colours['str_map'] = colours['str_map'].str.split(',')\n",
    "colours = colours.pivot(index='season', columns='colour_ranger', values='str_map').reset_index()\n",
    "#  for seasons where multiple characters share a colour, the above code merges them into a single value then pivots"
   ]
  },
  {
   "cell_type": "markdown",
   "id": "364325bc",
   "metadata": {},
   "source": [
    "sick okie dokie, I guess the jist of the plan is to now join this via 'season' to episodes and then use the columns as paint by numbers to replace the appearing words with the generic colours. There are far more varieties than i realised to be perfectly honest (i.e. 'grey ranger', 'navy ranger', etc...) but I'm hopeful it'll at least be decent. "
   ]
  },
  {
   "cell_type": "code",
   "execution_count": 9,
   "id": "f629c677",
   "metadata": {},
   "outputs": [
    {
     "data": {
      "text/html": [
       "<div>\n",
       "<style scoped>\n",
       "    .dataframe tbody tr th:only-of-type {\n",
       "        vertical-align: middle;\n",
       "    }\n",
       "\n",
       "    .dataframe tbody tr th {\n",
       "        vertical-align: top;\n",
       "    }\n",
       "\n",
       "    .dataframe thead th {\n",
       "        text-align: right;\n",
       "    }\n",
       "</style>\n",
       "<table border=\"1\" class=\"dataframe\">\n",
       "  <thead>\n",
       "    <tr style=\"text-align: right;\">\n",
       "      <th></th>\n",
       "      <th>episode_synopsis</th>\n",
       "      <th>season</th>\n",
       "      <th>episode_name</th>\n",
       "      <th>episode_number</th>\n",
       "      <th>aqua ranger</th>\n",
       "      <th>black ranger</th>\n",
       "      <th>blue ranger</th>\n",
       "      <th>crimson ranger</th>\n",
       "      <th>cyan ranger</th>\n",
       "      <th>gold ranger</th>\n",
       "      <th>...</th>\n",
       "      <th>orange ranger</th>\n",
       "      <th>phantom ranger</th>\n",
       "      <th>pink ranger</th>\n",
       "      <th>purple ranger</th>\n",
       "      <th>quantum ranger</th>\n",
       "      <th>red ranger</th>\n",
       "      <th>silver ranger</th>\n",
       "      <th>titanium ranger</th>\n",
       "      <th>white ranger</th>\n",
       "      <th>yellow ranger</th>\n",
       "    </tr>\n",
       "  </thead>\n",
       "  <tbody>\n",
       "    <tr>\n",
       "      <th>0</th>\n",
       "      <td>While on a detention-related field trip with t...</td>\n",
       "      <td>dino thunder</td>\n",
       "      <td>day of the dino</td>\n",
       "      <td>['01', '02']</td>\n",
       "      <td>NaN</td>\n",
       "      <td>[black dino ranger, Tommy Oliver, Tommy]</td>\n",
       "      <td>[blue dino ranger, Ethan James, Ethan]</td>\n",
       "      <td>NaN</td>\n",
       "      <td>NaN</td>\n",
       "      <td>NaN</td>\n",
       "      <td>...</td>\n",
       "      <td>NaN</td>\n",
       "      <td>NaN</td>\n",
       "      <td>NaN</td>\n",
       "      <td>NaN</td>\n",
       "      <td>NaN</td>\n",
       "      <td>[red dino ranger, Conner McKnight, Conner]</td>\n",
       "      <td>NaN</td>\n",
       "      <td>NaN</td>\n",
       "      <td>[white dino ranger, Trent Fernandez-Mercer, Tr...</td>\n",
       "      <td>[yellow dino ranger, Kira Ford, Kira]</td>\n",
       "    </tr>\n",
       "    <tr>\n",
       "      <th>1</th>\n",
       "      <td>Rita Repulsa has been removed from power and n...</td>\n",
       "      <td>mighty morphin</td>\n",
       "      <td>the mutiny</td>\n",
       "      <td>['01', '02', '03']</td>\n",
       "      <td>NaN</td>\n",
       "      <td>[black ranger, Zack Taylor, Zack,  black range...</td>\n",
       "      <td>[blue ranger, Billy Cranston, Billy,  blue ran...</td>\n",
       "      <td>NaN</td>\n",
       "      <td>NaN</td>\n",
       "      <td>NaN</td>\n",
       "      <td>...</td>\n",
       "      <td>NaN</td>\n",
       "      <td>NaN</td>\n",
       "      <td>[pink ranger, Kimberly Ann Hart, Kimberly,  pi...</td>\n",
       "      <td>NaN</td>\n",
       "      <td>NaN</td>\n",
       "      <td>[red ranger, Jason Lee Scott, Jason,  red rang...</td>\n",
       "      <td>NaN</td>\n",
       "      <td>NaN</td>\n",
       "      <td>[white ranger, Tommy Oliver, Tommy,  white (ni...</td>\n",
       "      <td>[yellow ranger, Trini Kwan, Trini,  yellow ran...</td>\n",
       "    </tr>\n",
       "    <tr>\n",
       "      <th>2</th>\n",
       "      <td>With Dr. Oliver \"on sick leave\" (due to his de...</td>\n",
       "      <td>dino thunder</td>\n",
       "      <td>the missing bone</td>\n",
       "      <td>['17']</td>\n",
       "      <td>NaN</td>\n",
       "      <td>[black dino ranger, Tommy Oliver, Tommy]</td>\n",
       "      <td>[blue dino ranger, Ethan James, Ethan]</td>\n",
       "      <td>NaN</td>\n",
       "      <td>NaN</td>\n",
       "      <td>NaN</td>\n",
       "      <td>...</td>\n",
       "      <td>NaN</td>\n",
       "      <td>NaN</td>\n",
       "      <td>NaN</td>\n",
       "      <td>NaN</td>\n",
       "      <td>NaN</td>\n",
       "      <td>[red dino ranger, Conner McKnight, Conner]</td>\n",
       "      <td>NaN</td>\n",
       "      <td>NaN</td>\n",
       "      <td>[white dino ranger, Trent Fernandez-Mercer, Tr...</td>\n",
       "      <td>[yellow dino ranger, Kira Ford, Kira]</td>\n",
       "    </tr>\n",
       "    <tr>\n",
       "      <th>3</th>\n",
       "      <td>As Trent has been completely taken over by the...</td>\n",
       "      <td>dino thunder</td>\n",
       "      <td>burning at both ends</td>\n",
       "      <td>['16']</td>\n",
       "      <td>NaN</td>\n",
       "      <td>[black dino ranger, Tommy Oliver, Tommy]</td>\n",
       "      <td>[blue dino ranger, Ethan James, Ethan]</td>\n",
       "      <td>NaN</td>\n",
       "      <td>NaN</td>\n",
       "      <td>NaN</td>\n",
       "      <td>...</td>\n",
       "      <td>NaN</td>\n",
       "      <td>NaN</td>\n",
       "      <td>NaN</td>\n",
       "      <td>NaN</td>\n",
       "      <td>NaN</td>\n",
       "      <td>[red dino ranger, Conner McKnight, Conner]</td>\n",
       "      <td>NaN</td>\n",
       "      <td>NaN</td>\n",
       "      <td>[white dino ranger, Trent Fernandez-Mercer, Tr...</td>\n",
       "      <td>[yellow dino ranger, Kira Ford, Kira]</td>\n",
       "    </tr>\n",
       "    <tr>\n",
       "      <th>4</th>\n",
       "      <td>A meteor's energy changes the Rangers' persona...</td>\n",
       "      <td>dino thunder</td>\n",
       "      <td>leader of the whack</td>\n",
       "      <td>['15']</td>\n",
       "      <td>NaN</td>\n",
       "      <td>[black dino ranger, Tommy Oliver, Tommy]</td>\n",
       "      <td>[blue dino ranger, Ethan James, Ethan]</td>\n",
       "      <td>NaN</td>\n",
       "      <td>NaN</td>\n",
       "      <td>NaN</td>\n",
       "      <td>...</td>\n",
       "      <td>NaN</td>\n",
       "      <td>NaN</td>\n",
       "      <td>NaN</td>\n",
       "      <td>NaN</td>\n",
       "      <td>NaN</td>\n",
       "      <td>[red dino ranger, Conner McKnight, Conner]</td>\n",
       "      <td>NaN</td>\n",
       "      <td>NaN</td>\n",
       "      <td>[white dino ranger, Trent Fernandez-Mercer, Tr...</td>\n",
       "      <td>[yellow dino ranger, Kira Ford, Kira]</td>\n",
       "    </tr>\n",
       "  </tbody>\n",
       "</table>\n",
       "<p>5 rows × 23 columns</p>\n",
       "</div>"
      ],
      "text/plain": [
       "                                    episode_synopsis          season  \\\n",
       "0  While on a detention-related field trip with t...    dino thunder   \n",
       "1  Rita Repulsa has been removed from power and n...  mighty morphin   \n",
       "2  With Dr. Oliver \"on sick leave\" (due to his de...    dino thunder   \n",
       "3  As Trent has been completely taken over by the...    dino thunder   \n",
       "4  A meteor's energy changes the Rangers' persona...    dino thunder   \n",
       "\n",
       "           episode_name      episode_number aqua ranger  \\\n",
       "0       day of the dino        ['01', '02']         NaN   \n",
       "1            the mutiny  ['01', '02', '03']         NaN   \n",
       "2      the missing bone              ['17']         NaN   \n",
       "3  burning at both ends              ['16']         NaN   \n",
       "4   leader of the whack              ['15']         NaN   \n",
       "\n",
       "                                        black ranger  \\\n",
       "0           [black dino ranger, Tommy Oliver, Tommy]   \n",
       "1  [black ranger, Zack Taylor, Zack,  black range...   \n",
       "2           [black dino ranger, Tommy Oliver, Tommy]   \n",
       "3           [black dino ranger, Tommy Oliver, Tommy]   \n",
       "4           [black dino ranger, Tommy Oliver, Tommy]   \n",
       "\n",
       "                                         blue ranger crimson ranger  \\\n",
       "0             [blue dino ranger, Ethan James, Ethan]            NaN   \n",
       "1  [blue ranger, Billy Cranston, Billy,  blue ran...            NaN   \n",
       "2             [blue dino ranger, Ethan James, Ethan]            NaN   \n",
       "3             [blue dino ranger, Ethan James, Ethan]            NaN   \n",
       "4             [blue dino ranger, Ethan James, Ethan]            NaN   \n",
       "\n",
       "  cyan ranger gold ranger  ... orange ranger phantom ranger  \\\n",
       "0         NaN         NaN  ...           NaN            NaN   \n",
       "1         NaN         NaN  ...           NaN            NaN   \n",
       "2         NaN         NaN  ...           NaN            NaN   \n",
       "3         NaN         NaN  ...           NaN            NaN   \n",
       "4         NaN         NaN  ...           NaN            NaN   \n",
       "\n",
       "                                         pink ranger purple ranger  \\\n",
       "0                                                NaN           NaN   \n",
       "1  [pink ranger, Kimberly Ann Hart, Kimberly,  pi...           NaN   \n",
       "2                                                NaN           NaN   \n",
       "3                                                NaN           NaN   \n",
       "4                                                NaN           NaN   \n",
       "\n",
       "  quantum ranger                                         red ranger  \\\n",
       "0            NaN         [red dino ranger, Conner McKnight, Conner]   \n",
       "1            NaN  [red ranger, Jason Lee Scott, Jason,  red rang...   \n",
       "2            NaN         [red dino ranger, Conner McKnight, Conner]   \n",
       "3            NaN         [red dino ranger, Conner McKnight, Conner]   \n",
       "4            NaN         [red dino ranger, Conner McKnight, Conner]   \n",
       "\n",
       "  silver ranger titanium ranger  \\\n",
       "0           NaN             NaN   \n",
       "1           NaN             NaN   \n",
       "2           NaN             NaN   \n",
       "3           NaN             NaN   \n",
       "4           NaN             NaN   \n",
       "\n",
       "                                        white ranger  \\\n",
       "0  [white dino ranger, Trent Fernandez-Mercer, Tr...   \n",
       "1  [white ranger, Tommy Oliver, Tommy,  white (ni...   \n",
       "2  [white dino ranger, Trent Fernandez-Mercer, Tr...   \n",
       "3  [white dino ranger, Trent Fernandez-Mercer, Tr...   \n",
       "4  [white dino ranger, Trent Fernandez-Mercer, Tr...   \n",
       "\n",
       "                                       yellow ranger  \n",
       "0              [yellow dino ranger, Kira Ford, Kira]  \n",
       "1  [yellow ranger, Trini Kwan, Trini,  yellow ran...  \n",
       "2              [yellow dino ranger, Kira Ford, Kira]  \n",
       "3              [yellow dino ranger, Kira Ford, Kira]  \n",
       "4              [yellow dino ranger, Kira Ford, Kira]  \n",
       "\n",
       "[5 rows x 23 columns]"
      ]
     },
     "execution_count": 9,
     "metadata": {},
     "output_type": "execute_result"
    }
   ],
   "source": [
    "df = pd.merge(episodes, colours, on='season', how='left')\n",
    "\n",
    "df.head()"
   ]
  },
  {
   "cell_type": "markdown",
   "id": "4f06ebe0",
   "metadata": {},
   "source": [
    "ok ok, so we've successfully gotten some of our shit together, but there are a ouple of forseen issues, most notably that for any season with like returning characters, those characters will not be mapped to their generic names and I guess will instead appear as if any other side characters.\n",
    "\n",
    "I wonder if i should also map mentor characters to 'mentor' so that they stay consistant too?\n",
    "\n",
    "who knows. For now, we need to do a row by row fairly fiddlesome regex replace I think. unless theres an easier way?"
   ]
  },
  {
   "cell_type": "code",
   "execution_count": 10,
   "id": "76f30526",
   "metadata": {},
   "outputs": [
    {
     "data": {
      "text/plain": [
       "\"While on a detention-related field trip with their new science teacher (Dr. black ranger), three students from Reefside High School (soccer star red ranger, rocker star wannabe yellow ranger, and wiz-kid blue ranger), stumble upon mystical Dino Gems which give them special powers. This makes them a target for a group of evil creatures known as Tyrannodrones. Can the teen trio work together despite their vast differences? And what connection is there between Dr. Oliver and the T-Drones's master, the dinosauric humanoid known as Mesogog? , yellow ranger must escape from Mesogog's island base, while being chased by the Tyranodrones and henchmen Elsa & Zeltrax. With help from Dr. black ranger, red ranger & blue ranger come to her aid. Their new science teacher reveals his connection to Mesogog and company, and to help combat this evil force, gives the three Dino Morphers to harness the Dino Gems, allowing them to become Dino Thunder Power Rangers! When Mesogog releases the three brainwashed-dinosaur Bio Zords to wreak havoc on the city, this new team must take on the forces of evil and find a way to give the Zords a change of heart.\""
      ]
     },
     "execution_count": 10,
     "metadata": {},
     "output_type": "execute_result"
    }
   ],
   "source": [
    "def get_dict_from_cols(input_df: pd.Series) -> Dict[str, List[str]]:\n",
    "    \"\"\"Convert row of pandas data to a dictionary with no nan vaues.\n",
    "    \n",
    "    Parameters\n",
    "    ----------\n",
    "    target_df : A row of pandas data with some column names to act as keys\n",
    "    \n",
    "    Returns\n",
    "    -------\n",
    "    Dict[str, List[str]]\n",
    "        Dictionary equivalent of the non null cells in target_df\n",
    "    \"\"\"\n",
    "    input_df = input_df.reset_index().dropna()\n",
    "    input_df.columns = ['colour', 'keywords']\n",
    "    output_dict = dict(zip(input_df['colour'], input_df['keywords']))\n",
    "    \n",
    "    return output_dict\n",
    "\n",
    "\n",
    "def find_replace_colours(input_string: str,\n",
    "                         target_df: pd.Series,\n",
    ") -> str:\n",
    "    \"\"\"Terrible implementation of a poor idea.\n",
    "    \n",
    "    Parameters\n",
    "    ----------\n",
    "    input_string : The string to be manipulated.\n",
    "    target_dict : The columns to map.\n",
    "    \n",
    "    Returns\n",
    "    -------\n",
    "    str\n",
    "        The string post manipulation.\n",
    "    \"\"\"\n",
    "    map_dict = get_dict_from_cols(target_df)\n",
    "    \n",
    "    for key, value in map_dict.items():\n",
    "        for keyword in value:\n",
    "            input_string = input_string.replace(keyword, key)\n",
    "            \n",
    "    return input_string\n",
    "\n",
    "\n",
    "not_rangers = ['episode_synopsis', 'season', 'episode_name', 'episode_number']\n",
    "rangers = [column for column in df.columns if column not in not_rangers]\n",
    "\n",
    "df['episode_synopsis_colour_mapped'] = df.apply(lambda x: find_replace_colours(x['episode_synopsis'],\n",
    "                                                                               x[rangers]),\n",
    "                                                axis=1)\n",
    "\n",
    "df['episode_synopsis_colour_mapped'][0]"
   ]
  },
  {
   "cell_type": "markdown",
   "id": "de06a728",
   "metadata": {},
   "source": [
    "'dr black ranger' lol.\n",
    "\n",
    "otherwise seems aight i guess? It ran pretty quick supprisingly too.\n",
    "\n",
    "guess I'll take it for now lol. So next steps will be to start EDA"
   ]
  },
  {
   "cell_type": "code",
   "execution_count": 48,
   "id": "bfe2c552",
   "metadata": {},
   "outputs": [],
   "source": [
    "df.to_csv('data/colour_mapped_episodes.csv', index=False)"
   ]
  },
  {
   "cell_type": "markdown",
   "id": "c8b9c51a",
   "metadata": {},
   "source": [
    "# EDA\n",
    "\n",
    "we'll start with some really basic stuff I guess. to keep relatively on track, I'd like to:\n",
    "\n",
    "1. get a feel for coverage\n",
    "2. get a feel for how frequently individual colours get personal stories\n",
    "3. get a feel for frequency of each colour in the synopsis'\n",
    "4. word clouds per season, likely with the colours removed"
   ]
  },
  {
   "cell_type": "code",
   "execution_count": 40,
   "id": "3d2819a7",
   "metadata": {},
   "outputs": [
    {
     "data": {
      "text/plain": [
       "<AxesSubplot:>"
      ]
     },
     "execution_count": 40,
     "metadata": {},
     "output_type": "execute_result"
    },
    {
     "data": {
      "image/png": "[encoded data removed]",
      "text/plain": [
       "<Figure size 432x288 with 2 Axes>"
      ]
     },
     "metadata": {
      "needs_background": "light"
     },
     "output_type": "display_data"
    }
   ],
   "source": [
    "sns.heatmap(df.isnull())"
   ]
  },
  {
   "cell_type": "markdown",
   "id": "f5232a60",
   "metadata": {},
   "source": [
    "we dont need thos columns anymore anyways, lets drop them all going forwards:"
   ]
  },
  {
   "cell_type": "code",
   "execution_count": 47,
   "id": "2723bcaf",
   "metadata": {},
   "outputs": [
    {
     "data": {
      "text/plain": [
       "<AxesSubplot:>"
      ]
     },
     "execution_count": 47,
     "metadata": {},
     "output_type": "execute_result"
    },
    {
     "data": {
      "image/png": "[encoded data removed]",
      "text/plain": [
       "<Figure size 432x288 with 2 Axes>"
      ]
     },
     "metadata": {
      "needs_background": "light"
     },
     "output_type": "display_data"
    }
   ],
   "source": [
    "df.drop(columns=rangers, inplace=True)\n",
    "\n",
    "sns.heatmap(df.isnull())"
   ]
  },
  {
   "cell_type": "markdown",
   "id": "0f9cecf7",
   "metadata": {},
   "source": [
    "perfect. next up, lets go looking for those one ranger episodes..."
   ]
  },
  {
   "cell_type": "code",
   "execution_count": 11,
   "id": "fe5caaf8",
   "metadata": {},
   "outputs": [
    {
     "data": {
      "text/html": [
       "<div>\n",
       "<style scoped>\n",
       "    .dataframe tbody tr th:only-of-type {\n",
       "        vertical-align: middle;\n",
       "    }\n",
       "\n",
       "    .dataframe tbody tr th {\n",
       "        vertical-align: top;\n",
       "    }\n",
       "\n",
       "    .dataframe thead th {\n",
       "        text-align: right;\n",
       "    }\n",
       "</style>\n",
       "<table border=\"1\" class=\"dataframe\">\n",
       "  <thead>\n",
       "    <tr style=\"text-align: right;\">\n",
       "      <th></th>\n",
       "      <th>episode_synopsis</th>\n",
       "      <th>season</th>\n",
       "      <th>episode_name</th>\n",
       "      <th>episode_number</th>\n",
       "      <th>aqua ranger</th>\n",
       "      <th>black ranger</th>\n",
       "      <th>blue ranger</th>\n",
       "      <th>crimson ranger</th>\n",
       "      <th>cyan ranger</th>\n",
       "      <th>gold ranger</th>\n",
       "      <th>...</th>\n",
       "      <th>purple ranger</th>\n",
       "      <th>quantum ranger</th>\n",
       "      <th>red ranger</th>\n",
       "      <th>silver ranger</th>\n",
       "      <th>titanium ranger</th>\n",
       "      <th>white ranger</th>\n",
       "      <th>yellow ranger</th>\n",
       "      <th>episode_synopsis_colour_mapped</th>\n",
       "      <th>number_of_rangers_in_ep</th>\n",
       "      <th>lone_ranger</th>\n",
       "    </tr>\n",
       "  </thead>\n",
       "  <tbody>\n",
       "    <tr>\n",
       "      <th>0</th>\n",
       "      <td>While on a detention-related field trip with t...</td>\n",
       "      <td>dino thunder</td>\n",
       "      <td>day of the dino</td>\n",
       "      <td>['01', '02']</td>\n",
       "      <td>0</td>\n",
       "      <td>1</td>\n",
       "      <td>1</td>\n",
       "      <td>0</td>\n",
       "      <td>0</td>\n",
       "      <td>0</td>\n",
       "      <td>...</td>\n",
       "      <td>0</td>\n",
       "      <td>0</td>\n",
       "      <td>1</td>\n",
       "      <td>0</td>\n",
       "      <td>0</td>\n",
       "      <td>0</td>\n",
       "      <td>1</td>\n",
       "      <td>While on a detention-related field trip with t...</td>\n",
       "      <td>4</td>\n",
       "      <td>None</td>\n",
       "    </tr>\n",
       "    <tr>\n",
       "      <th>1</th>\n",
       "      <td>Rita Repulsa has been removed from power and n...</td>\n",
       "      <td>mighty morphin</td>\n",
       "      <td>the mutiny</td>\n",
       "      <td>['01', '02', '03']</td>\n",
       "      <td>0</td>\n",
       "      <td>0</td>\n",
       "      <td>0</td>\n",
       "      <td>0</td>\n",
       "      <td>0</td>\n",
       "      <td>0</td>\n",
       "      <td>...</td>\n",
       "      <td>0</td>\n",
       "      <td>0</td>\n",
       "      <td>0</td>\n",
       "      <td>0</td>\n",
       "      <td>0</td>\n",
       "      <td>0</td>\n",
       "      <td>0</td>\n",
       "      <td>Rita Repulsa has been removed from power and n...</td>\n",
       "      <td>0</td>\n",
       "      <td>None</td>\n",
       "    </tr>\n",
       "    <tr>\n",
       "      <th>2</th>\n",
       "      <td>With Dr. Oliver \"on sick leave\" (due to his de...</td>\n",
       "      <td>dino thunder</td>\n",
       "      <td>the missing bone</td>\n",
       "      <td>['17']</td>\n",
       "      <td>0</td>\n",
       "      <td>1</td>\n",
       "      <td>0</td>\n",
       "      <td>0</td>\n",
       "      <td>0</td>\n",
       "      <td>0</td>\n",
       "      <td>...</td>\n",
       "      <td>0</td>\n",
       "      <td>0</td>\n",
       "      <td>0</td>\n",
       "      <td>0</td>\n",
       "      <td>0</td>\n",
       "      <td>1</td>\n",
       "      <td>1</td>\n",
       "      <td>With Dr. Oliver \"on sick leave\" (due to his de...</td>\n",
       "      <td>3</td>\n",
       "      <td>None</td>\n",
       "    </tr>\n",
       "    <tr>\n",
       "      <th>3</th>\n",
       "      <td>As Trent has been completely taken over by the...</td>\n",
       "      <td>dino thunder</td>\n",
       "      <td>burning at both ends</td>\n",
       "      <td>['16']</td>\n",
       "      <td>0</td>\n",
       "      <td>0</td>\n",
       "      <td>0</td>\n",
       "      <td>0</td>\n",
       "      <td>0</td>\n",
       "      <td>0</td>\n",
       "      <td>...</td>\n",
       "      <td>0</td>\n",
       "      <td>0</td>\n",
       "      <td>0</td>\n",
       "      <td>0</td>\n",
       "      <td>0</td>\n",
       "      <td>1</td>\n",
       "      <td>0</td>\n",
       "      <td>As white ranger has been completely taken over...</td>\n",
       "      <td>1</td>\n",
       "      <td>white ranger</td>\n",
       "    </tr>\n",
       "    <tr>\n",
       "      <th>4</th>\n",
       "      <td>A meteor's energy changes the Rangers' persona...</td>\n",
       "      <td>dino thunder</td>\n",
       "      <td>leader of the whack</td>\n",
       "      <td>['15']</td>\n",
       "      <td>0</td>\n",
       "      <td>1</td>\n",
       "      <td>0</td>\n",
       "      <td>0</td>\n",
       "      <td>0</td>\n",
       "      <td>0</td>\n",
       "      <td>...</td>\n",
       "      <td>0</td>\n",
       "      <td>0</td>\n",
       "      <td>0</td>\n",
       "      <td>0</td>\n",
       "      <td>0</td>\n",
       "      <td>1</td>\n",
       "      <td>0</td>\n",
       "      <td>A meteor's energy changes the Rangers' persona...</td>\n",
       "      <td>2</td>\n",
       "      <td>None</td>\n",
       "    </tr>\n",
       "  </tbody>\n",
       "</table>\n",
       "<p>5 rows × 26 columns</p>\n",
       "</div>"
      ],
      "text/plain": [
       "                                    episode_synopsis          season  \\\n",
       "0  While on a detention-related field trip with t...    dino thunder   \n",
       "1  Rita Repulsa has been removed from power and n...  mighty morphin   \n",
       "2  With Dr. Oliver \"on sick leave\" (due to his de...    dino thunder   \n",
       "3  As Trent has been completely taken over by the...    dino thunder   \n",
       "4  A meteor's energy changes the Rangers' persona...    dino thunder   \n",
       "\n",
       "           episode_name      episode_number  aqua ranger  black ranger  \\\n",
       "0       day of the dino        ['01', '02']            0             1   \n",
       "1            the mutiny  ['01', '02', '03']            0             0   \n",
       "2      the missing bone              ['17']            0             1   \n",
       "3  burning at both ends              ['16']            0             0   \n",
       "4   leader of the whack              ['15']            0             1   \n",
       "\n",
       "   blue ranger  crimson ranger  cyan ranger  gold ranger  ...  purple ranger  \\\n",
       "0            1               0            0            0  ...              0   \n",
       "1            0               0            0            0  ...              0   \n",
       "2            0               0            0            0  ...              0   \n",
       "3            0               0            0            0  ...              0   \n",
       "4            0               0            0            0  ...              0   \n",
       "\n",
       "   quantum ranger  red ranger  silver ranger  titanium ranger  white ranger  \\\n",
       "0               0           1              0                0             0   \n",
       "1               0           0              0                0             0   \n",
       "2               0           0              0                0             1   \n",
       "3               0           0              0                0             1   \n",
       "4               0           0              0                0             1   \n",
       "\n",
       "   yellow ranger                     episode_synopsis_colour_mapped  \\\n",
       "0              1  While on a detention-related field trip with t...   \n",
       "1              0  Rita Repulsa has been removed from power and n...   \n",
       "2              1  With Dr. Oliver \"on sick leave\" (due to his de...   \n",
       "3              0  As white ranger has been completely taken over...   \n",
       "4              0  A meteor's energy changes the Rangers' persona...   \n",
       "\n",
       "   number_of_rangers_in_ep   lone_ranger  \n",
       "0                        4          None  \n",
       "1                        0          None  \n",
       "2                        3          None  \n",
       "3                        1  white ranger  \n",
       "4                        2          None  \n",
       "\n",
       "[5 rows x 26 columns]"
      ]
     },
     "execution_count": 11,
     "metadata": {},
     "output_type": "execute_result"
    }
   ],
   "source": [
    "for ranger in rangers:\n",
    "    df[ranger] = np.where(df['episode_synopsis_colour_mapped'].str.contains(ranger), 1, 0)\n",
    "\n",
    "df['number_of_rangers_in_ep'] = df[rangers].sum(axis=1)\n",
    "df['lone_ranger'] = df[rangers].apply(lambda x: x.idxmax(), axis=1)\n",
    "df['lone_ranger'] = np.where(df['number_of_rangers_in_ep'] == 1, df['lone_ranger'], None)  # is there no one liner for this?\n",
    "df.head()"
   ]
  },
  {
   "cell_type": "markdown",
   "id": "d01827b3",
   "metadata": {},
   "source": [
    "interesting to see an episode with 0 rangers right from the start lol immediate shocker. otherwise though this seems to have worked and we can have a look at how many we've got fairly easily..."
   ]
  },
  {
   "cell_type": "code",
   "execution_count": 62,
   "id": "48429abb",
   "metadata": {},
   "outputs": [
    {
     "data": {
      "text/plain": [
       "'Rita Repulsa has been removed from power and now her master, Lord Zedd threatens the Earth with powers unlike anything ever seen before. He creates the Pirantishead monster who freezes four of the Dinozords and took control of the Tyrannosaurus and Dragonzord. The Power Rangers must step up their game if they hope to survive against this new enemy.'"
      ]
     },
     "execution_count": 62,
     "metadata": {},
     "output_type": "execute_result"
    }
   ],
   "source": [
    "df[df['number_of_rangers_in_ep'] == 0]['episode_synopsis_colour_mapped'][1]"
   ]
  },
  {
   "cell_type": "markdown",
   "id": "704779db",
   "metadata": {},
   "source": [
    "ok this is no biggy at all whatsoever. how many episodes have a lone ranger ridin' through an open plane?"
   ]
  },
  {
   "cell_type": "code",
   "execution_count": 63,
   "id": "cf4658d6",
   "metadata": {},
   "outputs": [
    {
     "name": "stdout",
     "output_type": "stream",
     "text": [
      "<class 'pandas.core.frame.DataFrame'>\n",
      "Int64Index: 800 entries, 0 to 799\n",
      "Data columns (total 26 columns):\n",
      " #   Column                          Non-Null Count  Dtype \n",
      "---  ------                          --------------  ----- \n",
      " 0   episode_synopsis                799 non-null    object\n",
      " 1   season                          799 non-null    object\n",
      " 2   episode_name                    800 non-null    object\n",
      " 3   episode_number                  800 non-null    object\n",
      " 4   episode_synopsis_colour_mapped  799 non-null    object\n",
      " 5   aqua ranger                     800 non-null    int32 \n",
      " 6   black ranger                    800 non-null    int32 \n",
      " 7   blue ranger                     800 non-null    int32 \n",
      " 8   crimson ranger                  800 non-null    int32 \n",
      " 9   cyan ranger                     800 non-null    int32 \n",
      " 10  gold ranger                     800 non-null    int32 \n",
      " 11  green ranger                    800 non-null    int32 \n",
      " 12  grey ranger                     800 non-null    int32 \n",
      " 13  navy ranger                     800 non-null    int32 \n",
      " 14  orange ranger                   800 non-null    int32 \n",
      " 15  phantom ranger                  800 non-null    int32 \n",
      " 16  pink ranger                     800 non-null    int32 \n",
      " 17  purple ranger                   800 non-null    int32 \n",
      " 18  quantum ranger                  800 non-null    int32 \n",
      " 19  red ranger                      800 non-null    int32 \n",
      " 20  silver ranger                   800 non-null    int32 \n",
      " 21  titanium ranger                 800 non-null    int32 \n",
      " 22  white ranger                    800 non-null    int32 \n",
      " 23  yellow ranger                   800 non-null    int32 \n",
      " 24  number_of_rangers_in_ep         800 non-null    int64 \n",
      " 25  lone_ranger                     350 non-null    object\n",
      "dtypes: int32(19), int64(1), object(6)\n",
      "memory usage: 141.7+ KB\n"
     ]
    }
   ],
   "source": [
    "df.info()"
   ]
  },
  {
   "cell_type": "markdown",
   "id": "de5108da",
   "metadata": {},
   "source": [
    "only 350? damn son. At least those can be labeled as like personal episodes for those particular rangers. to find most commonly appearing solo players we can now just do some colsums"
   ]
  },
  {
   "cell_type": "code",
   "execution_count": 12,
   "id": "e35a783a",
   "metadata": {},
   "outputs": [
    {
     "data": {
      "text/plain": [
       "<AxesSubplot:>"
      ]
     },
     "execution_count": 12,
     "metadata": {},
     "output_type": "execute_result"
    },
    {
     "data": {
      "image/png": "[encoded data removed]",
      "text/plain": [
       "<Figure size 432x288 with 1 Axes>"
      ]
     },
     "metadata": {
      "needs_background": "light"
     },
     "output_type": "display_data"
    }
   ],
   "source": [
    "pd.DataFrame(df[rangers].sum()).sort_values(by=0).plot(kind='bar')"
   ]
  },
  {
   "cell_type": "markdown",
   "id": "08d41761",
   "metadata": {},
   "source": [
    "unsupprisingly its red who shows up most frequently. interesting to see gold ranger overtake silver too as when i was young i swear there was never a gold one but often times thered be silver.\n",
    "\n",
    "dunno what aqua and cyan are playing at tbh, maybe if they teamed up as the pale blue rangers theyd get some more hits.\n",
    "\n",
    "Id like to plot a similar graph just for the individual story episodes now, to see how red bias that is..."
   ]
  },
  {
   "cell_type": "code",
   "execution_count": 14,
   "id": "ed50ff77",
   "metadata": {},
   "outputs": [
    {
     "data": {
      "text/plain": [
       "<AxesSubplot:>"
      ]
     },
     "execution_count": 14,
     "metadata": {},
     "output_type": "execute_result"
    },
    {
     "data": {
      "image/png": "[encoded data removed]",
      "text/plain": [
       "<Figure size 432x288 with 1 Axes>"
      ]
     },
     "metadata": {
      "needs_background": "light"
     },
     "output_type": "display_data"
    }
   ],
   "source": [
    "df['lone_ranger'].value_counts().plot(kind='bar')"
   ]
  },
  {
   "cell_type": "markdown",
   "id": "54dbea81",
   "metadata": {},
   "source": [
    "shit son. supprised yellow isnt the third as id always assumed red blue and yellow were the main characters due to being primary colours. i am noticing prehaps a cleaning error here where 'titanium ranger' has slipped through the cracks despite being silver in colour... to be honest im wondering with these more niche colours if i should look to make them into like a single 'bonus ranger' or something but guess we'll see how it goes without that first.\n",
    "\n",
    "just for fun, I'd like to now see what the correlation between the colours being name dropped might look like..."
   ]
  },
  {
   "cell_type": "code",
   "execution_count": 19,
   "id": "c4467ebd",
   "metadata": {},
   "outputs": [
    {
     "data": {
      "text/plain": [
       "<AxesSubplot:>"
      ]
     },
     "execution_count": 19,
     "metadata": {},
     "output_type": "execute_result"
    },
    {
     "data": {
      "image/png": "[encoded data removed]",
      "text/plain": [
       "<Figure size 1080x720 with 2 Axes>"
      ]
     },
     "metadata": {
      "needs_background": "light"
     },
     "output_type": "display_data"
    }
   ],
   "source": [
    "fig, ax = plt.subplots(figsize=(15, 10))\n",
    "sns.heatmap(df[rangers].corr(), cmap='viridis', ax=ax)"
   ]
  },
  {
   "cell_type": "markdown",
   "id": "9605145b",
   "metadata": {},
   "source": [
    "fun bit of validation to see cyan and aqua turn up only together - i wonder if they were actually designed as like partners or something? \n",
    "\n",
    "what we see generally is most of the weird niche ones are relatively well correlated (probably since theyre mostly =0?) whilst more common ranger colours get much less. The most interesting take away in my opinion is that most of the 'main' colours seem to be most closely correlated with yellow, suggesting yellow is most commonly paired up with other colours compared to other colours. DOes this line up with yellow having fewer solo ventures we saw before prehaps? who knows."
   ]
  }
 ],
 "metadata": {
  "kernelspec": {
   "display_name": "Python 3",
   "language": "python",
   "name": "python3"
  },
  "language_info": {
   "codemirror_mode": {
    "name": "ipython",
    "version": 3
   },
   "file_extension": ".py",
   "mimetype": "text/x-python",
   "name": "python",
   "nbconvert_exporter": "python",
   "pygments_lexer": "ipython3",
   "version": "3.7.7"
  },
  "toc": {
   "base_numbering": 1,
   "nav_menu": {},
   "number_sections": true,
   "sideBar": true,
   "skip_h1_title": false,
   "title_cell": "Table of Contents",
   "title_sidebar": "Contents",
   "toc_cell": false,
   "toc_position": {},
   "toc_section_display": true,
   "toc_window_display": false
  }
 },
 "nbformat": 4,
 "nbformat_minor": 5
}
